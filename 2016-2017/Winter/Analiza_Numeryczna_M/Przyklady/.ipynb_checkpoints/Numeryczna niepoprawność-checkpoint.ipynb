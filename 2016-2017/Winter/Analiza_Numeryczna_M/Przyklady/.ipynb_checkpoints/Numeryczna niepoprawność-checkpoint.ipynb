{
 "cells": [
  {
   "cell_type": "markdown",
   "metadata": {},
   "source": [
    "# Równanie kwadratowe\n",
    "Zadanie:<br>\n",
    "znaleźć pierwiastki $x_1$, $x_2$ równania kwadratowego\n",
    "$$ x^2-2px+q = 0 \\qquad ( p\\neq 0, q\\neq 0, p^2-q>0 ). $$"
   ]
  },
  {
   "cell_type": "code",
   "execution_count": 1,
   "metadata": {
    "collapsed": false
   },
   "outputs": [],
   "source": [
    "function Algorithm1(p,q)\n",
    "    assert( p != 0 && q != 0 && p*p-q > 0 )\n",
    "    Δ  = sqrt( p*p-q )\n",
    "    x1 = p + Δ\n",
    "    x2 = p - Δ\n",
    "    return x1, x2\n",
    "end;\n",
    "\n",
    "function Algorithm2(p,q)\n",
    "    assert( p != 0 && q != 0 && p*p-q > 0 )\n",
    "    Δ  = sqrt( p*p-q )\n",
    "    if p>=0\n",
    "        x1 = p + Δ\n",
    "        x2 = q/x1\n",
    "    else\n",
    "        x2 = p - Δ\n",
    "        x1 = q/x2\n",
    "    end\n",
    "    return x1, x2\n",
    "end;"
   ]
  },
  {
   "cell_type": "markdown",
   "metadata": {},
   "source": [
    "## Przykład 1"
   ]
  },
  {
   "cell_type": "code",
   "execution_count": 2,
   "metadata": {
    "collapsed": false
   },
   "outputs": [
    {
     "name": "stdout",
     "output_type": "stream",
     "text": [
      "Algorithm1(p,q) = (6.79393381840012,0.20606618159987944)\n",
      "Algorithm2(p,q) = (6.79393381840012,0.20606618159987922)\n"
     ]
    },
    {
     "data": {
      "text/plain": [
       "(6.79393381840012,0.20606618159987922)"
      ]
     },
     "execution_count": 2,
     "metadata": {},
     "output_type": "execute_result"
    }
   ],
   "source": [
    "p,q = 3.5, 1.4;\n",
    "@show Algorithm1( p,q )\n",
    "@show Algorithm2( p,q )"
   ]
  },
  {
   "cell_type": "markdown",
   "metadata": {},
   "source": [
    "**Twierdzenie**<br>\n",
    "Istnieją takie dane, dla których drugi wynik pierwszego algorytmu (pierwiastek $x_2$) może być obarczony dowolnie dużym błędem względnym.\n",
    "\n",
    "*Dowód*.\n",
    "Mamy\n",
    "$$ \\mathrm{fl}(x^\\pm) = ... TODO ... $$\n",
    "\n",
    "Można sprawdzić, że jest tak dla $p>0$ oraz $\\frac{q}{p^2} \\to 0$."
   ]
  },
  {
   "cell_type": "markdown",
   "metadata": {},
   "source": [
    "## Przykład 2"
   ]
  },
  {
   "cell_type": "code",
   "execution_count": 3,
   "metadata": {
    "collapsed": false
   },
   "outputs": [
    {
     "name": "stdout",
     "output_type": "stream",
     "text": [
      "(p,q) = (4.0646682744040005e6,2016.102)\n",
      "x2 (Alg1) = 2.4800328537821770e-04\n",
      "x2 (Alg2) = 2.4800326422174334e-04\n",
      "8.53e-08\n",
      "(p,q) = (8.129336548808001e6,2016.102)\n",
      "x2 (Alg1) = 1.2400187551975250e-04\n",
      "x2 (Alg2) = 1.2400163210803445e-04\n",
      "1.96e-06\n",
      "(p,q) = (1.6258673097616002e7,2016.102)\n",
      "x2 (Alg1) = 6.2000006437301636e-05\n",
      "x2 (Alg2) = 6.2000816053662581e-05\n",
      "1.31e-05\n",
      "(p,q) = (3.2517346195232004e7,2016.102)\n",
      "x2 (Alg1) = 3.1001865863800049e-05\n",
      "x2 (Alg2) = 3.1000408026786960e-05\n",
      "4.70e-05\n",
      "(p,q) = (6.503469239046401e7,2016.102)\n",
      "x2 (Alg1) = 1.5497207641601563e-05\n",
      "x2 (Alg2) = 1.5500204013387937e-05\n",
      "1.93e-04\n",
      "(p,q) = (1.3006938478092802e8,2016.102)\n",
      "x2 (Alg1) = 7.7486038208007813e-06\n",
      "x2 (Alg2) = 7.7501020066932757e-06\n",
      "1.93e-04\n",
      "(p,q) = (2.6013876956185603e8,2016.102)\n",
      "x2 (Alg1) = 3.8743019104003906e-06\n",
      "x2 (Alg2) = 3.8750510033465515e-06\n",
      "1.93e-04\n",
      "(p,q) = (5.2027753912371206e8,2016.102)\n",
      "x2 (Alg1) = 1.9669532775878906e-06\n",
      "x2 (Alg2) = 1.9375255016732647e-06\n",
      "1.52e-02\n",
      "(p,q) = (1.0405550782474241e9,2016.102)\n",
      "x2 (Alg1) = 9.5367431640625000e-07\n",
      "x2 (Alg2) = 9.6876275083663109e-07\n",
      "1.56e-02\n",
      "(p,q) = (2.0811101564948483e9,2016.102)\n",
      "x2 (Alg1) = 4.7683715820312500e-07\n",
      "x2 (Alg2) = 4.8438137541831533e-07\n",
      "1.56e-02\n",
      "(p,q) = (4.1622203129896965e9,2016.102)\n",
      "x2 (Alg1) = 4.7683715820312500e-07\n",
      "x2 (Alg2) = 2.4219068770915767e-07\n",
      "9.69e-01\n",
      "(p,q) = (8.324440625979393e9,2016.102)\n",
      "x2 (Alg1) = 0.0000000000000000e+00\n",
      "x2 (Alg2) = 1.2109534385457883e-07\n",
      "1.00e+00\n",
      "(p,q) = (1.6648881251958786e10,2016.102)\n",
      "x2 (Alg1) = 0.0000000000000000e+00\n",
      "x2 (Alg2) = 6.0547671927289417e-08\n",
      "1.00e+00\n",
      "(p,q) = (3.3297762503917572e10,2016.102)\n",
      "x2 (Alg1) = 0.0000000000000000e+00\n",
      "x2 (Alg2) = 3.0273835963644708e-08\n",
      "1.00e+00\n",
      "(p,q) = (6.6595525007835144e10,2016.102)\n",
      "x2 (Alg1) = 0.0000000000000000e+00\n",
      "x2 (Alg2) = 1.5136917981822354e-08\n",
      "1.00e+00\n"
     ]
    }
   ],
   "source": [
    "q = 2016.1020;\n",
    "p = q*q + 1.0;\n",
    "for i=1:15\n",
    "    @show p,q\n",
    "    A1 = Algorithm1( p,q )[2];\n",
    "    A2 = Algorithm2( p,q )[2];\n",
    "    @printf(\"x2 (Alg1) = %.16e\\nx2 (Alg2) = %.16e\\n%6.2e\\n\", A1, A2, abs(A1-A2)/abs(A2));\n",
    "    p = p*2.0;\n",
    "end"
   ]
  },
  {
   "cell_type": "code",
   "execution_count": null,
   "metadata": {
    "collapsed": true
   },
   "outputs": [],
   "source": []
  }
 ],
 "metadata": {
  "anaconda-cloud": {},
  "kernelspec": {
   "display_name": "Julia 0.5.0",
   "language": "julia",
   "name": "julia-0.5"
  },
  "language_info": {
   "file_extension": ".jl",
   "mimetype": "application/julia",
   "name": "julia",
   "version": "0.5.0"
  }
 },
 "nbformat": 4,
 "nbformat_minor": 0
}
