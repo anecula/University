{
 "cells": [
  {
   "cell_type": "code",
   "execution_count": 1,
   "metadata": {
    "collapsed": true
   },
   "outputs": [],
   "source": [
    "f1(x,y,z) = x*y-z^2-1;\n",
    "f2(x,y,z) = x*y*z+y^2-x^2-2;\n",
    "f3(x,y,z) = exp(x)+z-exp(y)-3;"
   ]
  },
  {
   "cell_type": "code",
   "execution_count": 30,
   "metadata": {
    "collapsed": false
   },
   "outputs": [
    {
     "name": "stderr",
     "output_type": "stream",
     "text": [
      "WARNING: Method definition F(Any) in module Main at In[27]:2 overwritten at In[30]:2.\n",
      "WARNING: Method definition J(Any) in module Main at In[27]:5 overwritten at In[30]:5.\n"
     ]
    }
   ],
   "source": [
    "# Funkcja F(x)\n",
    "F(x) = [ f1(x[1],x[2],x[3]); f2(x[1],x[2],x[3]); f2(x[1],x[2],x[3]) ];\n",
    "\n",
    "# Jakobian J(x)\n",
    "J(x) = [ x[2]             x[1]              -2x[3] ;\n",
    "         x[2]*x[3]-2x[1]  x[1]*x[3]+2x[2]   x[1]*x[2] ;\n",
    "         exp(x[1])        -exp(x[2])        1\n",
    "       ];"
   ]
  },
  {
   "cell_type": "code",
   "execution_count": 94,
   "metadata": {
    "collapsed": false
   },
   "outputs": [],
   "source": [
    "Real = Float64;\n",
    "Real = BigFloat;"
   ]
  },
  {
   "cell_type": "code",
   "execution_count": 95,
   "metadata": {
    "collapsed": false
   },
   "outputs": [
    {
     "data": {
      "text/plain": [
       "256"
      ]
     },
     "execution_count": 95,
     "metadata": {},
     "output_type": "execute_result"
    }
   ],
   "source": [
    "precision(Real)"
   ]
  },
  {
   "cell_type": "code",
   "execution_count": 96,
   "metadata": {
    "collapsed": false
   },
   "outputs": [
    {
     "data": {
      "text/plain": [
       "3-element Array{BigFloat,1}:\n",
       " -1.000000000000000000000000000000000000000000000000000000000000000000000000000000\n",
       " -1.000000000000000000000000000000000000000000000000000000000000000000000000000000\n",
       " -1.000000000000000000000000000000000000000000000000000000000000000000000000000000"
      ]
     },
     "execution_count": 96,
     "metadata": {},
     "output_type": "execute_result"
    }
   ],
   "source": [
    "x = ones(Real, 3)\n",
    "F(x)"
   ]
  },
  {
   "cell_type": "code",
   "execution_count": 97,
   "metadata": {
    "collapsed": false
   },
   "outputs": [
    {
     "data": {
      "text/plain": [
       "3×3 Array{BigFloat,2}:\n",
       "  1.000000000000000000000000000000000000000000000000000000000000000000000000000000  …  -2.000000000000000000000000000000000000000000000000000000000000000000000000000000\n",
       " -1.000000000000000000000000000000000000000000000000000000000000000000000000000000      1.000000000000000000000000000000000000000000000000000000000000000000000000000000\n",
       "  2.718281828459045235360287471352662497757247093699959574966967627724076630353555      1.000000000000000000000000000000000000000000000000000000000000000000000000000000"
      ]
     },
     "execution_count": 97,
     "metadata": {},
     "output_type": "execute_result"
    }
   ],
   "source": [
    "J(x)"
   ]
  },
  {
   "cell_type": "code",
   "execution_count": 98,
   "metadata": {
    "collapsed": false
   },
   "outputs": [
    {
     "name": "stdout",
     "output_type": "stream",
     "text": [
      "Iter 1 : x = [1.0000000000, 1.0000000000, 1.0000000000], h = [ 8.4e-01,  5.5e-01,  2.0e-01], err =  5.93e-01\n",
      "Iter 2 : x = [1.8446630483, 1.5492375783, 1.1969503133], h = [-1.5e-01, -1.2e-01, -1.7e-02], err =  7.38e-02\n",
      "Iter 3 : x = [1.6898159553, 1.4262719820, 1.1795754209], h = [-8.7e-03, -6.5e-03, -2.0e-03], err =  4.40e-03\n",
      "Iter 4 : x = [1.6811535383, 1.4197388787, 1.1776019453], h = [-3.0e-05, -2.2e-05, -1.1e-05], err =  1.53e-05\n",
      "Iter 5 : x = [1.6811239174, 1.4197172144, 1.1775910005], h = [-4.0e-10, -2.8e-10, -2.2e-10], err =  2.15e-10\n",
      "F(x) = BigFloat[6.400780173352216048784304834937704169622040764936447224040631395048140217944731e-20,2.814967957615758079748855923526171278170455444276370198552025790487238723658775e-19,2.814967957615758079748855923526171278170455444276370198552025790487238723658775e-19]\n"
     ]
    }
   ],
   "source": [
    "x = ones(Real, 3); # [1.0, 1.0, 1.0];\n",
    "\n",
    "for i=1:5\n",
    "    # Operator \\(A,b) rozwiązuje układ równań liniowych Ax = b\n",
    "    h = -\\(J(x),F(x))\n",
    "    \n",
    "    @printf(\"Iter %1d : x = [%.10f, %.10f, %.10f], h = [%8.1e, %8.1e, %8.1e], err = %9.2e\\n\", \n",
    "    i, x[1],x[2],x[3], h[1],h[2],h[3],  norm(h)/norm(x) )\n",
    "    x = x+h\n",
    "end\n",
    "\n",
    "@show F(x);"
   ]
  },
  {
   "cell_type": "code",
   "execution_count": null,
   "metadata": {
    "collapsed": true
   },
   "outputs": [],
   "source": []
  }
 ],
 "metadata": {
  "kernelspec": {
   "display_name": "Julia 0.5.0",
   "language": "julia",
   "name": "julia-0.5"
  },
  "language_info": {
   "file_extension": ".jl",
   "mimetype": "application/julia",
   "name": "julia",
   "version": "0.5.0"
  }
 },
 "nbformat": 4,
 "nbformat_minor": 0
}
